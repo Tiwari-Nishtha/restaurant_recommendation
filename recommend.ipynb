{
 "cells": [
  {
   "cell_type": "code",
   "execution_count": 19,
   "metadata": {},
   "outputs": [],
   "source": [
    "import pandas as pd\n",
    "from sklearn.preprocessing import OneHotEncoder\n",
    "from sklearn.metrics.pairwise import cosine_similarity\n",
    "from tabulate import tabulate\n",
    "from IPython.display import display, HTML\n",
    "\n",
    "# Load dataset\n",
    "df = pd.read_csv(r'/Users/nishthatiwari/Desktop/cognifyz/RR/Dataset .csv')\n"
   ]
  },
  {
   "cell_type": "code",
   "execution_count": 20,
   "metadata": {},
   "outputs": [],
   "source": [
    "# Handle missing values\n",
    "df.fillna('', inplace=True)\n",
    "\n",
    "# One-hot encode categorical variables\n",
    "categorical_cols = ['Cuisines', 'Has Table booking', 'Has Online delivery', 'Is delivering now', 'Switch to order menu']\n",
    "onehot_encoder = OneHotEncoder(handle_unknown='ignore')\n",
    "encoded_features = onehot_encoder.fit_transform(df[categorical_cols])\n",
    "\n",
    "# Combine encoded features with numerical features\n",
    "features = pd.concat([df[['Price range', 'Aggregate rating']], pd.DataFrame(encoded_features.toarray())], axis=1)\n"
   ]
  },
  {
   "cell_type": "code",
   "execution_count": 21,
   "metadata": {},
   "outputs": [],
   "source": [
    "# Function to recommend restaurants based on user preferences\n",
    "def recommend_restaurants(user_preferences, df, features, top_n=5):\n",
    "    # Encode user preferences\n",
    "    user_pref_df = pd.DataFrame([user_preferences])\n",
    "    user_pref_encoded = onehot_encoder.transform(user_pref_df[categorical_cols])\n",
    "    user_features = pd.concat([user_pref_df[['Price range', 'Aggregate rating']], pd.DataFrame(user_pref_encoded.toarray())], axis=1)\n",
    "\n",
    "    # Compute similarity\n",
    "    similarity = cosine_similarity(user_features, features)\n",
    "\n",
    "    # Get top N recommendations\n",
    "    top_indices = similarity[0].argsort()[-top_n:][::-1]\n",
    "    recommendations = df.iloc[top_indices]\n",
    "\n",
    "    return recommendations\n"
   ]
  },
  {
   "cell_type": "code",
   "execution_count": 22,
   "metadata": {},
   "outputs": [
    {
     "data": {
      "text/html": [
       "<table>\n",
       "<thead>\n",
       "<tr><th style=\"text-align: right;\">    </th><th>Restaurant Name  </th><th>Cuisines                                                         </th><th style=\"text-align: right;\">  Price range</th><th style=\"text-align: right;\">  Aggregate rating</th></tr>\n",
       "</thead>\n",
       "<tbody>\n",
       "<tr><td style=\"text-align: right;\">3733</td><td>Amalfi           </td><td>Italian                                                          </td><td style=\"text-align: right;\">            3</td><td style=\"text-align: right;\">               3.9</td></tr>\n",
       "<tr><td style=\"text-align: right;\">1231</td><td>Italiano         </td><td>Italian                                                          </td><td style=\"text-align: right;\">            3</td><td style=\"text-align: right;\">               3.6</td></tr>\n",
       "<tr><td style=\"text-align: right;\">9083</td><td>Ristorante Prego </td><td>Italian                                                          </td><td style=\"text-align: right;\">            3</td><td style=\"text-align: right;\">               3.1</td></tr>\n",
       "<tr><td style=\"text-align: right;\">9195</td><td>Coffee Cup       </td><td>Cafe, Continental                                                </td><td style=\"text-align: right;\">            2</td><td style=\"text-align: right;\">               4.6</td></tr>\n",
       "<tr><td style=\"text-align: right;\">9162</td><td>Kargo            </td><td>Charcoal Grill, Italian, North Indian, European, Indonesian, Thai</td><td style=\"text-align: right;\">            2</td><td style=\"text-align: right;\">               4.4</td></tr>\n",
       "</tbody>\n",
       "</table>"
      ],
      "text/plain": [
       "<IPython.core.display.HTML object>"
      ]
     },
     "metadata": {},
     "output_type": "display_data"
    }
   ],
   "source": [
    "# Example user preferences\n",
    "user_preferences = {\n",
    "    'Cuisines': 'Italian',\n",
    "    'Has Table booking': 'Yes',\n",
    "    'Has Online delivery': 'No',\n",
    "    'Is delivering now': 'No',\n",
    "    'Switch to order menu': 'No',\n",
    "    'Price range': 2,\n",
    "    'Aggregate rating': 4.0\n",
    "}\n",
    "\n",
    "# Get recommendations\n",
    "recommendations = recommend_restaurants(user_preferences, df, features)\n",
    "# Display recommendations as a table\n",
    "table = tabulate(recommendations[['Restaurant Name', 'Cuisines', 'Price range', 'Aggregate rating']], headers='keys', tablefmt='html')\n",
    "display(HTML(table))"
   ]
  }
 ],
 "metadata": {
  "kernelspec": {
   "display_name": "Python 3",
   "language": "python",
   "name": "python3"
  },
  "language_info": {
   "codemirror_mode": {
    "name": "ipython",
    "version": 3
   },
   "file_extension": ".py",
   "mimetype": "text/x-python",
   "name": "python",
   "nbconvert_exporter": "python",
   "pygments_lexer": "ipython3",
   "version": "3.12.4"
  }
 },
 "nbformat": 4,
 "nbformat_minor": 2
}
